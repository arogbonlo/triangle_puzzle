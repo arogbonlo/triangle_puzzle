{
 "cells": [
  {
   "cell_type": "code",
   "execution_count": 1,
   "metadata": {
    "collapsed": true
   },
   "outputs": [],
   "source": [
    "from itertools import combinations"
   ]
  },
  {
   "cell_type": "markdown",
   "metadata": {},
   "source": [
    "# Upshot\n",
    "There are 18 basis solutions to the puzzle. Every other solution is obtained by either:\n",
    "\n",
    "1. rearranging non vertex elements on one side of a solution\n",
    "2. Rotating a solution\n",
    "3. A combination (and or repition) of 1 and 2\n",
    "\n",
    "## Solution walk through:\n",
    "\n",
    "One side of the triangle has 4 elements, so we can start by generating every possible side of a triangle:\n",
    "1. Generate a list `xs` of every combination of 4 numbers between 1 and 9 inclusive. `xs = [c1..c126]`\n",
    "\n",
    "    * The number of possible sides are:$\\binom 9 4 = 126 $\n",
    "\n",
    "From the original question, every triangle that satisfies the criteria has the property: \n",
    "$\\sum side_1 = \\sum side_2 = \\sum side_3$. \n",
    "\n",
    "We can exploit this by creating a list containing the sums of the elements of xs and picking only thoes ones that appear at least 3 times:\n",
    "\n",
    "*  `sums = [sum(c1)..sum(c126)]`\n",
    "* candidate sums = $\\{$sum($c_i$) | sum($c_i$) appears at least 3 times in sums$\\}$\n",
    "#* There are 15 candidate sums\n",
    "\n",
    "Another key observation we can make from the puzzle criteria is that each side of the triangle will share\n",
    "1 *unique* vertex with with each other side:\n",
    "\n",
    "Let the sides of the triangle be `A B C` where `A, B, C` are sets.\n",
    "Side `A` will share a vertex with side `B` and another with side `C`.\n",
    "The element common to side `A` and side `B` i.e. $A \\cap B$ is not common to `C`. The same holds for sides `A` and `C`\n",
    "as well as sides `B` and `C`. Simply:\n",
    "\n",
    "condition 1: $$A \\cap B \\cap C = \\emptyset $$\n",
    "\n",
    "condition 2: $$|A \\cap B| = |A \\cap C| = |B \\cap C| = 1$$\n",
    "\n",
    "With the information concerning the set properties of the sides of the triangle, for each candidate sum, \n",
    "* we pick every set in xs which sums up to `candidate sum`. This forms our current `test space`\n",
    "* generate every combination of 3 sets from test space. $triplets :=$ every combo of 3 sets in test space\n",
    "* The elements of `triplets` that satisfy the set conditions are solutions\n",
    "\n",
    "The solutions are stored in a dictionary (aka hash table, hash map, hash array, e.t.c.) for efficient lookup\n",
    "\n",
    "Take note of the liberal use of comprehensions, generators and filters: **vive la programmation functionnel!**\n"
   ]
  },
  {
   "cell_type": "code",
   "execution_count": 2,
   "metadata": {
    "collapsed": true
   },
   "outputs": [],
   "source": [
    "xs = list(combinations([i for i in range(1, 10)], 4)) # list of all possible combinations of 4 nums in [1..9]\n",
    "sums = [sum(i) for i in xs] #list of the sum of each tuple in xs\n",
    "candidate_sums = {i for i in sums if sums.count(i) >= 3} #set of sums that appear atleast 3 times: potential solutions\n",
    "\n",
    "dct = {} #empty dict to hold solution\n",
    "for i in candidate_sums:\n",
    "    test_space = [set(j) for j in xs if sum(j) == i] # list of sets in xs which sum up to i\n",
    "    triplets = combinations(test_space, 3) #every combination of 3 sides from test_space note this is a generator\n",
    "    for triple in triplets:\n",
    "        if not set.intersection(triple[0], triple[1], triple[2]): #lines 11 - 14: test the set conditions\n",
    "            if 1 == len(set.intersection(triple[0], triple[1]))\\\n",
    "                == len(set.intersection(triple[0], triple[2]))\\\n",
    "                == len(set.intersection(triple[1], triple[2])):\n",
    "                    if str(i) not in dct:\n",
    "                        dct[str(i)] = [] #initialise list to hold solution in dct\n",
    "                    dct[str(i)].append(triple) #append solution to dct"
   ]
  },
  {
   "cell_type": "code",
   "execution_count": 3,
   "metadata": {
    "collapsed": false
   },
   "outputs": [
    {
     "name": "stdout",
     "output_type": "stream",
     "text": [
      "************************************************************\n",
      "* Sum = 20, # Solutions = 6, Solutions:\t\t\t   *\n",
      "*----------------------------------------------------------*\n",
      "* solution 1: ({8, 1, 2, 9}, {2, 5, 6, 7}, {8, 3, 4, 5})   *\n",
      "* solution 2: ({1, 9, 3, 7}, {8, 1, 5, 6}, {9, 2, 4, 5})   *\n",
      "* solution 3: ({1, 9, 3, 7}, {2, 5, 6, 7}, {8, 3, 4, 5})   *\n",
      "* solution 4: ({1, 9, 4, 6}, {2, 5, 6, 7}, {8, 3, 4, 5})   *\n",
      "* solution 5: ({8, 1, 5, 6}, {8, 2, 3, 7}, {9, 2, 4, 5})   *\n",
      "* solution 6: ({8, 1, 5, 6}, {9, 2, 4, 5}, {3, 4, 6, 7})   *\n",
      "************************************************************\n",
      "\n",
      "\n",
      "************************************************************\n",
      "* Sum = 21, # Solutions = 4, Solutions:\t\t\t   *\n",
      "*----------------------------------------------------------*\n",
      "* solution 1: ({8, 1, 9, 3}, {9, 2, 4, 6}, {3, 5, 6, 7})   *\n",
      "* solution 2: ({8, 1, 9, 3}, {8, 2, 4, 7}, {3, 5, 6, 7})   *\n",
      "* solution 3: ({1, 9, 5, 6}, {9, 2, 3, 7}, {8, 3, 4, 6})   *\n",
      "* solution 4: ({8, 1, 5, 7}, {9, 2, 3, 7}, {8, 3, 4, 6})   *\n",
      "************************************************************\n",
      "\n",
      "\n",
      "************************************************************\n",
      "* Sum = 19, # Solutions = 4, Solutions:\t\t\t   *\n",
      "*----------------------------------------------------------*\n",
      "* solution 1: ({1, 2, 9, 7}, {8, 1, 4, 6}, {3, 4, 5, 7})   *\n",
      "* solution 2: ({1, 2, 9, 7}, {8, 2, 3, 6}, {3, 4, 5, 7})   *\n",
      "* solution 3: ({8, 1, 3, 7}, {1, 9, 4, 5}, {2, 4, 6, 7})   *\n",
      "* solution 4: ({8, 1, 3, 7}, {9, 2, 3, 5}, {2, 4, 6, 7})   *\n",
      "************************************************************\n",
      "\n",
      "\n",
      "************************************************************\n",
      "* Sum = 23, # Solutions = 2, Solutions:\t\t\t   *\n",
      "*----------------------------------------------------------*\n",
      "* solution 1: ({8, 1, 9, 5}, {8, 2, 6, 7}, {9, 3, 4, 7})   *\n",
      "* solution 2: ({1, 9, 6, 7}, {8, 9, 2, 4}, {8, 3, 5, 7})   *\n",
      "************************************************************\n",
      "\n",
      "\n",
      "************************************************************\n",
      "* Sum = 17, # Solutions = 2, Solutions:\t\t\t   *\n",
      "*----------------------------------------------------------*\n",
      "* solution 1: ({1, 2, 9, 5}, {1, 3, 6, 7}, {8, 2, 3, 4})   *\n",
      "* solution 2: ({8, 1, 2, 6}, {1, 9, 3, 4}, {2, 3, 5, 7})   *\n",
      "************************************************************\n",
      "\n",
      "\n"
     ]
    }
   ],
   "source": [
    "for key, value in dct.items():\n",
    "    print(\"************************************************************\")\n",
    "    print(\"* Sum = {}, # Solutions = {}, Solutions:\\t\\t\\t   *\".format(key, len(value)))\n",
    "    print(\"*----------------------------------------------------------*\")\n",
    "    for i, v in enumerate(value):\n",
    "        print(\"* solution {}: {}   *\".format(i+1, v))\n",
    "    print(\"************************************************************\")\n",
    "    print(\"\\n\")"
   ]
  },
  {
   "cell_type": "markdown",
   "metadata": {},
   "source": [
    "## Same algorithm, written in a more functional style\n",
    "\n",
    "Here I define a function `set_conditions` to test the set conditions defined earlier:\n",
    "\n",
    "condition 1: $$A \\cap B \\cap C = \\emptyset \\\\$$\n",
    "\n",
    "condition 2: $$|A \\cap B| = |A \\cap C| = |B \\cap C| = 1$$\n",
    "\n",
    "One can simply `filter` the triangles under consideration to get those which satisfy the `set_conditions`.\n",
    "\n",
    "The end product: a more comprehensible implementation"
   ]
  },
  {
   "cell_type": "code",
   "execution_count": 4,
   "metadata": {
    "collapsed": true
   },
   "outputs": [],
   "source": [
    "def set_conditions(triple):\n",
    "    \"\"\"(tuple of sets) -> bool\n",
    "    Given a tuple containing 3 sets A, B, C\n",
    "    Return true if and only if \n",
    "        A intersection B intersection C = \\emptyset\n",
    "        and\n",
    "        len(A intersection  B) = len(A intersection  C) = len(B intersection  C) = 1\n",
    "    \n",
    "    The entire function is in the return statement.\n",
    "    The function is simple enough to understand so I have opted to \n",
    "    save computational resources (time and memory)\n",
    "    time by avoiding the overhead of creating then later accessing variables\n",
    "    \"\"\"    \n",
    "#    cond1 = not set.intersection(triple[0], triple[1], triple[2])\n",
    "#    cond2 = 1 == len(set.intersection(triple[0], triple[1]))\\\n",
    "#            == len(set.intersection(triple[0], triple[2]))\\\n",
    "#            == len(set.intersection(triple[1], triple[2]))\n",
    "#    return cond1 and cond2\n",
    "    return not set.intersection(triple[0], triple[1], triple[2]) and\\\n",
    "            1 == len(set.intersection(triple[0], triple[1]))\\\n",
    "                == len(set.intersection(triple[0], triple[2]))\\\n",
    "                == len(set.intersection(triple[1], triple[2]))"
   ]
  },
  {
   "cell_type": "code",
   "execution_count": 5,
   "metadata": {
    "collapsed": true
   },
   "outputs": [],
   "source": [
    "xs = list(combinations([i for i in range(1, 10)], 4))\n",
    "sums = [sum(i) for i in xs]\n",
    "candidate_sums = set(filter(lambda x: sums.count(x) > 2, sums))\n",
    "\n",
    "d2 = {}\n",
    "for i in candidate_sums:\n",
    "    test_space = [set(j) for j in xs if sum(j) == i]\n",
    "    triplets = combinations(test_space, 3)\n",
    "    sol = list(filter(set_conditions, triplets)) # filter solutions from triplets\n",
    "    if sol:\n",
    "        d2[str(i)] = sol #put solution in dict"
   ]
  },
  {
   "cell_type": "code",
   "execution_count": 6,
   "metadata": {
    "collapsed": false
   },
   "outputs": [
    {
     "name": "stdout",
     "output_type": "stream",
     "text": [
      "************************************************************\n",
      "* Sum = 20, # Solutions = 6, Solutions:\t\t\t   *\n",
      "*----------------------------------------------------------*\n",
      "* solution 1: ({8, 1, 2, 9}, {2, 5, 6, 7}, {8, 3, 4, 5})   *\n",
      "* solution 2: ({1, 9, 3, 7}, {8, 1, 5, 6}, {9, 2, 4, 5})   *\n",
      "* solution 3: ({1, 9, 3, 7}, {2, 5, 6, 7}, {8, 3, 4, 5})   *\n",
      "* solution 4: ({1, 9, 4, 6}, {2, 5, 6, 7}, {8, 3, 4, 5})   *\n",
      "* solution 5: ({8, 1, 5, 6}, {8, 2, 3, 7}, {9, 2, 4, 5})   *\n",
      "* solution 6: ({8, 1, 5, 6}, {9, 2, 4, 5}, {3, 4, 6, 7})   *\n",
      "************************************************************\n",
      "\n",
      "\n",
      "************************************************************\n",
      "* Sum = 21, # Solutions = 4, Solutions:\t\t\t   *\n",
      "*----------------------------------------------------------*\n",
      "* solution 1: ({8, 1, 9, 3}, {9, 2, 4, 6}, {3, 5, 6, 7})   *\n",
      "* solution 2: ({8, 1, 9, 3}, {8, 2, 4, 7}, {3, 5, 6, 7})   *\n",
      "* solution 3: ({1, 9, 5, 6}, {9, 2, 3, 7}, {8, 3, 4, 6})   *\n",
      "* solution 4: ({8, 1, 5, 7}, {9, 2, 3, 7}, {8, 3, 4, 6})   *\n",
      "************************************************************\n",
      "\n",
      "\n",
      "************************************************************\n",
      "* Sum = 19, # Solutions = 4, Solutions:\t\t\t   *\n",
      "*----------------------------------------------------------*\n",
      "* solution 1: ({1, 2, 9, 7}, {8, 1, 4, 6}, {3, 4, 5, 7})   *\n",
      "* solution 2: ({1, 2, 9, 7}, {8, 2, 3, 6}, {3, 4, 5, 7})   *\n",
      "* solution 3: ({8, 1, 3, 7}, {1, 9, 4, 5}, {2, 4, 6, 7})   *\n",
      "* solution 4: ({8, 1, 3, 7}, {9, 2, 3, 5}, {2, 4, 6, 7})   *\n",
      "************************************************************\n",
      "\n",
      "\n",
      "************************************************************\n",
      "* Sum = 23, # Solutions = 2, Solutions:\t\t\t   *\n",
      "*----------------------------------------------------------*\n",
      "* solution 1: ({8, 1, 9, 5}, {8, 2, 6, 7}, {9, 3, 4, 7})   *\n",
      "* solution 2: ({1, 9, 6, 7}, {8, 9, 2, 4}, {8, 3, 5, 7})   *\n",
      "************************************************************\n",
      "\n",
      "\n",
      "************************************************************\n",
      "* Sum = 17, # Solutions = 2, Solutions:\t\t\t   *\n",
      "*----------------------------------------------------------*\n",
      "* solution 1: ({1, 2, 9, 5}, {1, 3, 6, 7}, {8, 2, 3, 4})   *\n",
      "* solution 2: ({8, 1, 2, 6}, {1, 9, 3, 4}, {2, 3, 5, 7})   *\n",
      "************************************************************\n",
      "\n",
      "\n"
     ]
    }
   ],
   "source": [
    "for key, value in d2.items():\n",
    "    print(\"************************************************************\")\n",
    "    print(\"* Sum = {}, # Solutions = {}, Solutions:\\t\\t\\t   *\".format(key, len(value)))\n",
    "    print(\"*----------------------------------------------------------*\")\n",
    "    for i, v in enumerate(value):\n",
    "        print(\"* solution {}: {}   *\".format(i+1, v))\n",
    "    print(\"************************************************************\")\n",
    "    print(\"\\n\")"
   ]
  },
  {
   "cell_type": "markdown",
   "metadata": {},
   "source": [
    "Now this is programming at the speed of thought The hardest part writing the code was getting the box  around the result right"
   ]
  },
  {
   "cell_type": "markdown",
   "metadata": {},
   "source": [
    "# Epilogue\n",
    "\n",
    "    public class TrianglePuzzle{\n",
    "        public static void main(void){\n",
    "        private...\n",
    "        \n",
    "            (https://www.xkcd.com/353/)\n",
    "    !!!!!  o\n",
    "    d- -b o\n",
    "     \\-/\n",
    "\n",
    " "
   ]
  },
  {
   "cell_type": "code",
   "execution_count": null,
   "metadata": {
    "collapsed": true
   },
   "outputs": [],
   "source": []
  }
 ],
 "metadata": {
  "kernelspec": {
   "display_name": "Python 3",
   "language": "python",
   "name": "python3"
  },
  "language_info": {
   "codemirror_mode": {
    "name": "ipython",
    "version": 3
   },
   "file_extension": ".py",
   "mimetype": "text/x-python",
   "name": "python",
   "nbconvert_exporter": "python",
   "pygments_lexer": "ipython3",
   "version": "3.4.2"
  }
 },
 "nbformat": 4,
 "nbformat_minor": 2
}
